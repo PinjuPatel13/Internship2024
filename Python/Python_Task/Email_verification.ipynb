{
 "cells": [
  {
   "cell_type": "code",
   "execution_count": 4,
   "id": "d16162b8",
   "metadata": {},
   "outputs": [
    {
     "name": "stdout",
     "output_type": "stream",
     "text": [
      "Enter your Gmail id....p@gmail.com\n",
      "p@gmail.com\n",
      "Right Email...\n"
     ]
    }
   ],
   "source": [
    " # Gmail verification----\n",
    "\n",
    "Email= input(\"Enter your Gmail id....\")\n",
    "print(Email)\n",
    "k,j,b = 0,0,0\n",
    "if  len(Email)>=6:\n",
    "    \n",
    "\n",
    "    if Email[0].isalpha():    \n",
    "       \n",
    "        if(\"@\" in Email) and (Email.count(\"@\")==1) :  \n",
    "\n",
    "            \n",
    "            if (Email[-10:-4]==\"@gmail\") ^ (Email[-9:-3]==\"@gmail\") and  (Email[-4]==\".\") ^ (Email[-3]==\".\"):  \n",
    "              \n",
    "                        #.com 4    #gmail 9-4  ==>  #.in 3   #gmail 8-3\n",
    "                        #pusadadiya._@12gmail.in   \n",
    "                \n",
    "                    \n",
    "                for i in Email:\n",
    "                    if (i==i.isspace()):\n",
    "                        k=1\n",
    "                    elif i.isalpha():\n",
    "                        if i==i.upper():\n",
    "                            j=1\n",
    "                    elif i.isdigit():\n",
    "                         continue\n",
    "                    elif i==\"_\" or i==\".\" or i==\"@\":\n",
    "                         continue\n",
    "                    elif i.isalnum():\n",
    "                         continue\n",
    "                    else:\n",
    "                        b=1\n",
    "\n",
    "\n",
    "                if k==1 or j==1 or b==1:\n",
    "                    print(\"Wrong Email...first later is capital..\")  \n",
    "                else:\n",
    "                    print(\"Right Email...\")   \n",
    "            else:\n",
    "                print(\"Wrong Email, Enter valid Email id...\")\n",
    "        else:\n",
    "            print(\"wrong Email,@ is reqiure...\")\n",
    "    \n",
    "    else:\n",
    "        print(\"Wrong Email frist charcter will be small later...\")\n",
    "\n",
    "else:\n",
    "        print(\"Wrong Email Length is not statidfying...\")\n",
    "\n"
   ]
  }
 ],
 "metadata": {
  "kernelspec": {
   "display_name": "Python 3 (ipykernel)",
   "language": "python",
   "name": "python3"
  },
  "language_info": {
   "codemirror_mode": {
    "name": "ipython",
    "version": 3
   },
   "file_extension": ".py",
   "mimetype": "text/x-python",
   "name": "python",
   "nbconvert_exporter": "python",
   "pygments_lexer": "ipython3",
   "version": "3.9.13"
  }
 },
 "nbformat": 4,
 "nbformat_minor": 5
}
